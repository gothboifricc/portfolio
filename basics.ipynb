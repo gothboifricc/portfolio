{
  "nbformat": 4,
  "nbformat_minor": 0,
  "metadata": {
    "colab": {
      "provenance": [],
      "authorship_tag": "ABX9TyMwdP7hwFJeBbhWqK52lDfR",
      "include_colab_link": true
    },
    "kernelspec": {
      "name": "python3",
      "display_name": "Python 3"
    },
    "language_info": {
      "name": "python"
    }
  },
  "cells": [
    {
      "cell_type": "markdown",
      "metadata": {
        "id": "view-in-github",
        "colab_type": "text"
      },
      "source": [
        "<a href=\"https://colab.research.google.com/github/gothboifricc/portfolio/blob/main/basics.ipynb\" target=\"_parent\"><img src=\"https://colab.research.google.com/assets/colab-badge.svg\" alt=\"Open In Colab\"/></a>"
      ]
    },
    {
      "cell_type": "code",
      "source": [
        "# Define data science job roles and required skills\n",
        "job_roles = [\n",
        "    {'role': 'Data Analyst', 'skills': ['Python', 'SQL', 'Excel']},\n",
        "    {'role': 'Data Scientist', 'skills': ['Python', 'R', 'Machine Learning', 'Deep Learning']},\n",
        "    {'role': 'Machine Learning Engineer', 'skills': ['Python', 'TensorFlow', 'PyTorch', 'Scikit-Learn']},\n",
        "    {'role': 'Data Engineer', 'skills': ['Python', 'Apache Spark', 'Hadoop', 'SQL']},\n",
        "    {'role': 'Business Intelligence Analyst', 'skills': ['Python', 'SQL', 'Tableau', 'Power BI', 'Excel']},\n",
        "    {'role': 'Quantitative Analyst', 'skills': ['R', 'Python', 'MATLAB', 'Statistics']},\n",
        "    {'role': 'Operations Analyst', 'skills': ['Python', 'SQL', 'Data Visualization', 'Process Improvement']},\n",
        "    {'role': 'Database Administrator', 'skills': ['SQL', 'Oracle', 'MySQL', 'Database Management']},\n",
        "    {'role': 'AI Engineer', 'skills': ['Python', 'TensorFlow', 'PyTorch', 'Computer Vision']},\n",
        "    {'role': 'Statistician', 'skills': ['R', 'SAS', 'Python', 'Statistical Modeling']}\n",
        "]\n",
        "# My skills\n",
        "my_skills = ['Python', 'SQL', 'Excel']"
      ],
      "metadata": {
        "id": "_3LB_xqJLjoI"
      },
      "execution_count": 1,
      "outputs": []
    },
    {
      "cell_type": "code",
      "source": [
        "qualified_jobs = []\n",
        "for job in job_roles:\n",
        "    qualified = True\n",
        "    for skill in my_skills:\n",
        "      if skill not in job['skills']:\n",
        "        qualified = False\n",
        "        break\n",
        "    if qualified:\n",
        "      qualified_jobs.append(job)\n",
        "print(qualified_jobs)"
      ],
      "metadata": {
        "id": "ExdCT7WxL2xZ",
        "colab": {
          "base_uri": "https://localhost:8080/"
        },
        "outputId": "f8559099-318c-45bd-d0b5-b02ee8515086"
      },
      "execution_count": 2,
      "outputs": [
        {
          "output_type": "stream",
          "name": "stdout",
          "text": [
            "[{'role': 'Data Analyst', 'skills': ['Python', 'SQL', 'Excel']}, {'role': 'Business Intelligence Analyst', 'skills': ['Python', 'SQL', 'Tableau', 'Power BI', 'Excel']}]\n"
          ]
        }
      ]
    },
    {
      "cell_type": "code",
      "source": [
        "#diff between lambda fnctns and def fnctns using list comps.\n",
        "sal_list = [100000, 200000, 150000, 120000, 80000, 750000]\n",
        "def salary_calculator(base_salary, bonus = .1):\n",
        "  total_salary = base_salary * (1 + bonus)\n",
        "  return int(total_salary)\n",
        "\n",
        "total_sal_list = [salary_calculator(salary) for salary in sal_list]\n",
        "print(total_sal_list)\n",
        "total_sal_list_lambda = [(lambda x: int(x * 1.1))(salary) for salary in sal_list]\n",
        "print(total_sal_list_lambda)"
      ],
      "metadata": {
        "colab": {
          "base_uri": "https://localhost:8080/"
        },
        "id": "7dC3fUypENKK",
        "outputId": "abc19d5e-5c63-4432-8758-e74db4163296"
      },
      "execution_count": 3,
      "outputs": [
        {
          "output_type": "stream",
          "name": "stdout",
          "text": [
            "[110000, 220000, 165000, 132000, 88000, 825000]\n",
            "[110000, 220000, 165000, 132000, 88000, 825000]\n"
          ]
        }
      ]
    },
    {
      "cell_type": "code",
      "source": [
        "#find jobs that have python and are remote (uses built-in fnctn filter())\n",
        "jobs_data = [\n",
        "    {'job_title': 'Data Scientist',  'job_skills': ['Python', 'Machine Learning'], 'remote': True},\n",
        "    {'job_title': 'Data Analyst',  'job_skills': ['Excel', 'SQL'], 'remote': False},\n",
        "    {'job_title': 'Machine Learning Engineer', 'job_skills': ['Python', 'TensorFlow', 'Keras'], 'remote': True},\n",
        "    {'job_title': 'Software Developer', 'job_skills': ['Java', 'C++'], 'remote': True},\n",
        "    {'job_title': 'Data Scientist', 'job_skills': ['R', 'Statistics'], 'remote': False}\n",
        "]\n",
        "list(filter((lambda job:job['remote'] and 'Python' in job['job_skills']), jobs_data))"
      ],
      "metadata": {
        "colab": {
          "base_uri": "https://localhost:8080/"
        },
        "id": "wQ-ruDZduvG_",
        "outputId": "8ebd9e56-5695-4d5b-fda3-870401ead4ab"
      },
      "execution_count": 4,
      "outputs": [
        {
          "output_type": "execute_result",
          "data": {
            "text/plain": [
              "[{'job_title': 'Data Scientist',\n",
              "  'job_skills': ['Python', 'Machine Learning'],\n",
              "  'remote': True},\n",
              " {'job_title': 'Machine Learning Engineer',\n",
              "  'job_skills': ['Python', 'TensorFlow', 'Keras'],\n",
              "  'remote': True}]"
            ]
          },
          "metadata": {},
          "execution_count": 4
        }
      ]
    },
    {
      "cell_type": "code",
      "source": [
        "from my_module import *\n",
        "bonus_calculator(15000, 10000)"
      ],
      "metadata": {
        "id": "mNfZA7RT1NN6",
        "colab": {
          "base_uri": "https://localhost:8080/"
        },
        "outputId": "1ff9cd0c-e3e5-452a-bfc3-69488a595614"
      },
      "execution_count": 11,
      "outputs": [
        {
          "output_type": "execute_result",
          "data": {
            "text/plain": [
              "0.5"
            ]
          },
          "metadata": {},
          "execution_count": 11
        }
      ]
    },
    {
      "cell_type": "code",
      "source": [],
      "metadata": {
        "id": "84JaLcKfukI2"
      },
      "execution_count": null,
      "outputs": []
    }
  ]
}